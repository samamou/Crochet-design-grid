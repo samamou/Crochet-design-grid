{
  "nbformat": 4,
  "nbformat_minor": 0,
  "metadata": {
    "colab": {
      "name": "TextWrapping_Images_PIL.ipynb",
      "provenance": [],
      "collapsed_sections": [],
      "include_colab_link": true
    },
    "kernelspec": {
      "name": "python3",
      "display_name": "Python 3"
    },
    "language_info": {
      "name": "python"
    }
  },
  "cells": [
    {
      "cell_type": "markdown",
      "metadata": {
        "id": "view-in-github",
        "colab_type": "text"
      },
      "source": [
        "<a href=\"https://colab.research.google.com/github/samamou/Crochet-grid-designer/blob/main/TextWrapping_Images_PIL.ipynb\" target=\"_parent\"><img src=\"https://colab.research.google.com/assets/colab-badge.svg\" alt=\"Open In Colab\"/></a>"
      ]
    },
    {
      "cell_type": "code",
      "metadata": {
        "id": "ynR2Ez071cGv"
      },
      "source": [
        "# Importing the PIL library\n",
        "from PIL import Image, ImageFont, ImageDraw\n",
        "\n",
        "\n",
        "def printP():\n",
        "    # Use a breakpoint in the code line below to debug your script.\n",
        "    img = Image.open(\"border.png\")\n",
        "    title_font = ImageFont.truetype('Playfair_Display/static/PlayfairDisplay-Regular.ttf', 200)\n",
        "    title_text = \"A very long sentence\"\n",
        "    image_editable = ImageDraw.Draw(img)\n",
        "    # Add Text to an image\n",
        "    image_editable.text((10, 10), title_text, (000, 000, 000), font=title_font)\n",
        "    # Display edited image\n",
        "    img.show()\n",
        "    # Save the edited image\n",
        "    img.save(\"result.jpg\")\n",
        "\n",
        "\n",
        "# def printL():\n",
        "#     image = Image.open('border.png')\n",
        "#     draw = ImageDraw.Draw(image)\n",
        "#     txt = \"boooooo hbkjhbk jhbkjhb jhbk jbjk hb k kjbk\"\n",
        "#     fontsize = 1  # starting font size\n",
        "#     W, H = image.size\n",
        "#     # portion of image width you want text width to be\n",
        "#     blank = Image.new('RGBA', (1000, 300))\n",
        "#     font = ImageFont.truetype(\"Playfair_Display/static/PlayfairDisplay-Regular.ttf\", fontsize)\n",
        "#     print\n",
        "#     image.size\n",
        "#     print\n",
        "#     blank.size\n",
        "#     while (font.getsize(txt)[0] < blank.size[0]) and (font.getsize(txt)[1] < blank.size[1]):\n",
        "#         # iterate until the text size is just larger than the criteria\n",
        "#         fontsize += 1\n",
        "#         font = ImageFont.truetype(\"Playfair_Display/static/PlayfairDisplay-Regular.ttf\", fontsize)\n",
        "#     # optionally de-increment to be sure it is less than criteria\n",
        "#     fontsize -= 1\n",
        "#     font = ImageFont.truetype(\"Playfair_Display/static/PlayfairDisplay-Regular.ttf\", fontsize)\n",
        "#     w, h = draw.textsize(txt, font=font)\n",
        "#     print\n",
        "#     'final font size', fontsize\n",
        "#     draw.text(((W - w) / 2, (H - h) / 2), txt, font=font, fill=\"black\")  # put the text on the image\n",
        "#     image.save('sample-out.png', quality=95)  # save it\n",
        "\n",
        "\n",
        "# Press the green button in the gutter to run the script.\n",
        "if __name__ == '__main__':\n",
        "    printP()\n",
        "    # printL()\n"
      ],
      "execution_count": null,
      "outputs": []
    }
  ]
}